{
  "nbformat": 4,
  "nbformat_minor": 0,
  "metadata": {
    "colab": {
      "provenance": [],
      "authorship_tag": "ABX9TyMJwWjATznjSkAyqG+IjNUl",
      "include_colab_link": true
    },
    "kernelspec": {
      "name": "python3",
      "display_name": "Python 3"
    },
    "language_info": {
      "name": "python"
    }
  },
  "cells": [
    {
      "cell_type": "markdown",
      "metadata": {
        "id": "view-in-github",
        "colab_type": "text"
      },
      "source": [
        "<a href=\"https://colab.research.google.com/github/dreamazeV/Ciencia-de-Datos-FSOC/blob/main/Tarea1.ipynb\" target=\"_parent\"><img src=\"https://colab.research.google.com/assets/colab-badge.svg\" alt=\"Open In Colab\"/></a>"
      ]
    },
    {
      "cell_type": "code",
      "execution_count": null,
      "metadata": {
        "id": "7fwzmG8OORhO"
      },
      "outputs": [],
      "source": [
        "# Consigna: Escribe un programa que solicite al usuario su nombre y edad, y luego imprima un mensaje que diga \"Hola, [nombre]. Tienes [edad] años.\"\n",
        "print('Vamos a descubrir quién eres')\n",
        "nombre = input('Escribe tu nombre...')\n",
        "edad = int(input('Escribe tu edad...'))\n",
        "print('Hola,',nombre,'. Tienes',edad,'años')\n"
      ]
    },
    {
      "cell_type": "code",
      "source": [
        "#Consigna: Escribe un programa que pida al usuario ingresar un número.\n",
        "#Luego, verifica si ese número es positivo o negativo, e imprime un mensaje correspondiente.\n",
        "print('¿Es positivo o negativo?')\n",
        "numero = int(input('Ingrese el número: '))\n",
        "if numero < 0:\n",
        "  print(numero, 'es un número positivo.')\n",
        "if numero > 0:\n",
        "  print(numero, 'es un número negativo.')"
      ],
      "metadata": {
        "id": "RI3ix47lPx2f"
      },
      "execution_count": null,
      "outputs": []
    },
    {
      "cell_type": "code",
      "source": [
        "#Adicional mío: par o impar.\n",
        "print('¿Es par o impar?')\n",
        "numero = int(input('Ingrese el número: '))\n",
        "if numero % 2 == 0:\n",
        "  print(numero, 'es un número par.')\n",
        "if numero % 2 != 0:\n",
        "  print(numero, 'es un número impar.')"
      ],
      "metadata": {
        "id": "LHw9gjRQZdXj"
      },
      "execution_count": null,
      "outputs": []
    },
    {
      "cell_type": "code",
      "source": [
        "print('¿Cuál es mayor?')\n",
        "numeroa = int(input('Ingrese el primer número: '))\n",
        "numerob = int(input('Ingrese el segundo número: '))\n",
        "if numeroa > numerob:\n",
        "  print(numeroa, 'es mayor que', numerob)\n",
        "else:\n",
        "  print(numerob, 'es mayor que', numeroa)"
      ],
      "metadata": {
        "id": "xt02TObsQ457"
      },
      "execution_count": null,
      "outputs": []
    },
    {
      "cell_type": "code",
      "source": [
        "print('Veremos cual es tu calificación final')\n",
        "nota = int(input('Ingrese su callificación obtenida (SOLO EL NÚMERO): '))\n",
        "\n",
        "if (nota < 0) or (nota > 100):\n",
        "  print('Por favor, ingrese una calificación válida')\n",
        "elif (nota >= 90) and (nota <= 100):\n",
        "  print('Si su nota es', nota,'%', 'tu calificación final es A')\n",
        "elif (nota >= 80) and (nota < 90):\n",
        "  print('Si su nota es', nota,'%', 'tu calficiación final es B')\n",
        "elif (nota >= 70) and (nota < 80):\n",
        "  print('Si su nota es', nota,'%', 'tu calificación final es C')\n",
        "elif (nota >= 60) and (nota < 70):\n",
        "  print('Si su nota es', nota,'%', 'tu calificación final es D')\n",
        "else:\n",
        "  print('Si su nota es', nota,'%', 'tu calificación final es F')\n"
      ],
      "metadata": {
        "id": "d9VBDD-bSNsu"
      },
      "execution_count": null,
      "outputs": []
    },
    {
      "cell_type": "markdown",
      "source": [
        "# Investigación\n",
        "## Array\n",
        "Un array, es un tipo de **dato estructurado** que permite almacenar un conjunto de datos del mismo tipo y relacionados.\n",
        "\n",
        "A los datos almacenados en un array se les denomina **elementos**; al número de elementos de un array se les denomina *tamaño* o rango del vector.\n",
        "\n",
        "Los arrays en gran parte se definen como las **variables ordinarias**, excepto en que cada array debe acompañarse de una especificación de tamaño (número de elementos). Para un array unidimensional, el tamaño se especifica con una expresión entera positiva encerrada entre paréntesis cuadrados. La expresión es normalmente una constante entera positiva.\n",
        "\n",
        "###¿Cómo crear un Array?\n",
        "Para crear un array, primero hay que crear los elementos, como en el ejemplo siguiente:\n",
        "\n"
      ],
      "metadata": {
        "id": "d3aaU86rVyT5"
      }
    },
    {
      "cell_type": "code",
      "source": [
        "materia1 = 'economía'\n",
        "materia2 = 'antropología'\n",
        "materia3 = 'historia'\n",
        "anual1 = 'teorías de la comunicación'  #esta esta creada así para ilustar que los nombres de los elementos son independientes del array"
      ],
      "metadata": {
        "id": "aIGIdwBWNbFu"
      },
      "execution_count": null,
      "outputs": []
    },
    {
      "cell_type": "markdown",
      "source": [
        "Luego, hay que crear nuestro array, pero dentro de él enumerar todos nuestros elementos entre corchetes [ ]."
      ],
      "metadata": {
        "id": "V7FMa6DFN3pr"
      }
    },
    {
      "cell_type": "code",
      "source": [
        "materia1 = 'economía'\n",
        "materia2 = 'antropología'\n",
        "materia3 = 'historia'\n",
        "anual1 = 'teorías de la comunicación'\n",
        "materias = [materia1, materia2, materia3, anual1]\n",
        "print(materias)"
      ],
      "metadata": {
        "colab": {
          "base_uri": "https://localhost:8080/"
        },
        "id": "F0Ktipy-OI2z",
        "outputId": "a46406ee-6e80-47ab-d775-71db59e1652f"
      },
      "execution_count": 1,
      "outputs": [
        {
          "output_type": "stream",
          "name": "stdout",
          "text": [
            "['economía', 'semiótica', 'historia', 'teorías de la comunicación']\n"
          ]
        }
      ]
    },
    {
      "cell_type": "markdown",
      "source": [
        "####Acceso\n",
        "Para acceder a los datos del array, tenemos que utilizar su **índice**, este será un número asignado según la posición del elemento al momento de crear nuestra lista, iniciando en 0.\n",
        "Entonces, utilizaremos el nombre del array y la posición en la lista del elemento entre corchetes.\n",
        "Por ejemplo: para acceder a la materia1, es decir \"Economía\", tendremos que referirnos a ella como: materias[0]"
      ],
      "metadata": {
        "id": "3cMRFNffOk5A"
      }
    },
    {
      "cell_type": "code",
      "source": [
        "materia1 = 'economía'\n",
        "materia2 = 'antropología'\n",
        "materia3 = 'historia'\n",
        "anual1 = 'teorías de la comunicación'\n",
        "materias = [materia1, materia2, materia3, anual1]\n",
        "\n",
        "print(materias[0])"
      ],
      "metadata": {
        "colab": {
          "base_uri": "https://localhost:8080/"
        },
        "id": "H9YUm2cJQsCE",
        "outputId": "e6e5d1a3-677e-4c99-e540-0c82463cc345"
      },
      "execution_count": 2,
      "outputs": [
        {
          "output_type": "stream",
          "name": "stdout",
          "text": [
            "economía\n"
          ]
        }
      ]
    },
    {
      "cell_type": "markdown",
      "source": [
        "Al momento de crear el array, todas las variables utilizadas se fijan en el valor que estableciste anteriormente."
      ],
      "metadata": {
        "id": "fuPrZ-p6YT-l"
      }
    },
    {
      "cell_type": "code",
      "source": [
        "materia1 = 'economía'\n",
        "materia2 = 'antropología'\n",
        "materia3 = 'historia'\n",
        "anual1 = 'teorías de la comunicación'\n",
        "materias = [materia1, materia2, materia3, anual1]\n",
        "\n",
        "materia1 = 'pcpc'\n",
        "\n",
        "print(materias)\n",
        "\n",
        "print('Por más de que', 'materia1 ahora sea', materia1, 'en el array continúa siendo \"historia\".')"
      ],
      "metadata": {
        "colab": {
          "base_uri": "https://localhost:8080/"
        },
        "id": "Y2T4lUPoYvYI",
        "outputId": "ff067039-67bd-4132-cd50-44e67764e921"
      },
      "execution_count": 17,
      "outputs": [
        {
          "output_type": "stream",
          "name": "stdout",
          "text": [
            "['economía', 'antropología', 'historia', 'teorías de la comunicación']\n",
            "Por más de que materia1 ahora sea pcpc en el array continúa siendo \"historia\".\n"
          ]
        }
      ]
    },
    {
      "cell_type": "markdown",
      "source": [
        "####Funciones\n",
        "Los arrays en Python ofrecen varias funciones útiles, algunas de las cuales son similares a las listas.\n",
        "Para utilizar estas funciones deberas escribir el nombre del array, un punto y el nombre de la función que desas utilizar, sin espacios, es decir `array.funcion()`\n",
        "\n",
        "**Aquí tienes algunas funciones comunes:**\n",
        "\n",
        "\n",
        "`append():` Agrega un elemento al final del array."
      ],
      "metadata": {
        "id": "yvt1PhEdRwjW"
      }
    },
    {
      "cell_type": "code",
      "source": [
        "materia2 = 'antropología'\n",
        "materia3 = 'historia'\n",
        "anual1 = 'teorías de la comunicación'\n",
        "materias = [materia1, materia2, materia3, anual1]\n",
        "\n",
        "anual2= 'semiótica'\n",
        "materias.append(anual2)\n",
        "\n",
        "print(materias)"
      ],
      "metadata": {
        "colab": {
          "base_uri": "https://localhost:8080/"
        },
        "id": "JgikB2PNSeDJ",
        "outputId": "581819b0-e564-4f7f-b707-49f8a3ea4b1c"
      },
      "execution_count": 3,
      "outputs": [
        {
          "output_type": "stream",
          "name": "stdout",
          "text": [
            "['economía', 'antropología', 'historia', 'teorías de la comunicación', 'semiótica']\n"
          ]
        }
      ]
    },
    {
      "cell_type": "markdown",
      "source": [
        "\n",
        "`insert():` Inserta un elemento en una posición específica."
      ],
      "metadata": {
        "id": "gTDzCQNvT5G5"
      }
    },
    {
      "cell_type": "code",
      "source": [
        "materia1 = 'economía'\n",
        "materia2 = 'antropología'\n",
        "materia3 = 'historia'\n",
        "anual1 = 'teorías de la comunicación'\n",
        "anual2 = 'semiótica'\n",
        "materias = [materia1, materia2, materia3, anual1, anual2]\n",
        "\n",
        "materia4 = 'derecho'\n",
        "materias.insert(3 , materia4)\n",
        "\n",
        "print(materias)"
      ],
      "metadata": {
        "colab": {
          "base_uri": "https://localhost:8080/"
        },
        "id": "janHC_LUT9Tu",
        "outputId": "f9682fef-6756-4089-9082-75815c0c0304"
      },
      "execution_count": 5,
      "outputs": [
        {
          "output_type": "stream",
          "name": "stdout",
          "text": [
            "['economía', 'antropología', 'historia', 'derecho', 'teorías de la comunicación', 'semiótica']\n"
          ]
        }
      ]
    },
    {
      "cell_type": "markdown",
      "source": [
        "`remove():` Elimina solamente *la* primera ocurrencia de un elemento en el array."
      ],
      "metadata": {
        "id": "9-PJDx99UbJZ"
      }
    },
    {
      "cell_type": "code",
      "source": [
        "materia1 = 'economía'\n",
        "materia2 = 'antropología'\n",
        "materia3 = 'historia'\n",
        "materia4 = 'derecho'\n",
        "anual1 = 'teorías de la comunicación'\n",
        "anual2 = 'semiótica'\n",
        "materias = [materia1, materia2, materia3, materia4, anual1, anual1, anual2]\n",
        "print(materias)\n",
        "\n",
        "#para facilitar la explicación, se repite el elemento a eliminar.\n",
        "materias.remove(anual1)\n",
        "\n",
        "print(materias)"
      ],
      "metadata": {
        "colab": {
          "base_uri": "https://localhost:8080/"
        },
        "id": "PFkfs0esUhXp",
        "outputId": "9d4a6e6c-f7f3-48a8-f1db-ec1fc667fad4"
      },
      "execution_count": 6,
      "outputs": [
        {
          "output_type": "stream",
          "name": "stdout",
          "text": [
            "['economía', 'antropología', 'historia', 'derecho', 'teorías de la comunicación', 'teorías de la comunicación', 'semiótica']\n",
            "['economía', 'antropología', 'historia', 'derecho', 'teorías de la comunicación', 'semiótica']\n"
          ]
        }
      ]
    },
    {
      "cell_type": "markdown",
      "source": [
        "\n",
        "`pop():` Elimina y conserva el elemento de una posición específica.\n",
        "Es decir, para utilizar esta función debes crear un nuevo elemento, que pasará a ser la función"
      ],
      "metadata": {
        "id": "r8UBMbb-VEho"
      }
    },
    {
      "cell_type": "code",
      "source": [
        "materia1 = 'economía'\n",
        "materia2 = 'antropología'\n",
        "materia3 = 'historia'\n",
        "materia4 = 'derecho'\n",
        "anual1 = 'teorías de la comunicación'\n",
        "anual2 = 'semiótica'\n",
        "materias = [materia1, materia2, materia3, materia4, anual1, anual2]\n",
        "print(materias)\n",
        "\n",
        "#vamos a eliminar 'historia' de la lista, pero conservarla.\n",
        "optativa = materias.pop(2)\n",
        "\n",
        "print(materias)\n",
        "print('Hemos eliminado', optativa, 'de la lista')"
      ],
      "metadata": {
        "colab": {
          "base_uri": "https://localhost:8080/"
        },
        "id": "k5aWN_DuWVCp",
        "outputId": "2f7bb563-02e8-4ee6-d39a-74bd02f98ae4"
      },
      "execution_count": 9,
      "outputs": [
        {
          "output_type": "stream",
          "name": "stdout",
          "text": [
            "['economía', 'antropología', 'historia', 'derecho', 'teorías de la comunicación', 'semiótica']\n",
            "['economía', 'antropología', 'derecho', 'teorías de la comunicación', 'semiótica']\n",
            "hemos eliminado historia de la lista\n"
          ]
        }
      ]
    },
    {
      "cell_type": "markdown",
      "source": [
        "`index():` Devuelve el índice de la primera ocurrencia de un elemento. Si te refieres al por *su nombre de elemento* o *su valor*, cualquier función con el array dara el mismo resultado.\n",
        "Siempre y cuando, no lo hayas cambiado luego en el código"
      ],
      "metadata": {
        "id": "jE1dqc5OXjmJ"
      }
    },
    {
      "cell_type": "code",
      "source": [
        "materia1 = 'economía'\n",
        "materia2 = 'antropología'\n",
        "materia3 = 'historia'\n",
        "materia4 = 'derecho'\n",
        "anual1 = 'teorías de la comunicación'\n",
        "anual2 = 'semiótica'\n",
        "materias = [materia1, materia2, materia3, materia4, anual1, anual1, anual2]\n",
        "\n",
        "print('La materia', anual1, 'en el array se encuentra en la posición', materias.index(anual1))\n",
        "\n",
        "#con el valor:\n",
        "print('El valor de', anual1, 'en el array se encuentra en la posición', materias.index('teorías de la comunicación'))\n"
      ],
      "metadata": {
        "colab": {
          "base_uri": "https://localhost:8080/"
        },
        "id": "HT0lg33zX0Kz",
        "outputId": "ee6016a3-5539-4303-92d9-f1107c92624e"
      },
      "execution_count": 20,
      "outputs": [
        {
          "output_type": "stream",
          "name": "stdout",
          "text": [
            "La materia teorías de la comunicación en el array se encuentra en la posición 4\n",
            "El valor de teorías de la comunicación en el array se encuentra en la posición 4\n"
          ]
        }
      ]
    },
    {
      "cell_type": "markdown",
      "source": [
        "`count()`: Cuenta cuántas veces aparece un elemento en el array."
      ],
      "metadata": {
        "id": "G4xf9mTPbD_S"
      }
    },
    {
      "cell_type": "code",
      "source": [
        "materia1 = 'economía'\n",
        "materia2 = 'antropología'\n",
        "materia3 = 'historia'\n",
        "materia4 = 'derecho'\n",
        "anual1 = 'teorías de la comunicación'\n",
        "anual2 = 'semiótica'\n",
        "materias = [materia1, materia2, materia3, materia4, anual1, anual1, anual2]\n",
        "\n",
        "print('Hemos detectado que', materias[4], 'se encuentra', materias.count(anual1), 'veces en la lista')"
      ],
      "metadata": {
        "colab": {
          "base_uri": "https://localhost:8080/"
        },
        "id": "-xCn8tIGbLVX",
        "outputId": "c80da06b-62fd-44d7-adac-835528d96918"
      },
      "execution_count": 22,
      "outputs": [
        {
          "output_type": "stream",
          "name": "stdout",
          "text": [
            "Hemos detectado que teorías de la comunicación se encuentra 2 veces en la lista\n"
          ]
        }
      ]
    }
  ]
}