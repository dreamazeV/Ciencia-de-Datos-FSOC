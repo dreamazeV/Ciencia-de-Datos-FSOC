{
  "cells": [
    {
      "cell_type": "markdown",
      "metadata": {
        "colab_type": "text",
        "id": "view-in-github"
      },
      "source": [
        "<a href=\"https://colab.research.google.com/github/dreamazeV/Ciencia-de-Datos-FSOC/blob/main/Tarea1.ipynb\" target=\"_parent\"><img src=\"https://colab.research.google.com/assets/colab-badge.svg\" alt=\"Open In Colab\"/></a>"
      ]
    },
    {
      "cell_type": "code",
      "execution_count": null,
      "metadata": {
        "id": "7fwzmG8OORhO"
      },
      "outputs": [],
      "source": [
        "# Consigna: Escribe un programa que solicite al usuario su nombre y edad, y luego imprima un mensaje que diga \"Hola, [nombre]. Tienes [edad] años.\"\n",
        "print('Vamos a descubrir quién eres')\n",
        "nombre = input('Escribe tu nombre...')\n",
        "edad = int(input('Escribe tu edad...'))\n",
        "print('Hola,',nombre,'. Tienes',edad,'años')\n"
      ]
    },
    {
      "cell_type": "code",
      "execution_count": null,
      "metadata": {
        "id": "RI3ix47lPx2f"
      },
      "outputs": [],
      "source": [
        "#Consigna: Escribe un programa que pida al usuario ingresar un número.\n",
        "#Luego, verifica si ese número es positivo o negativo, e imprime un mensaje correspondiente.\n",
        "print('¿Es positivo o negativo?')\n",
        "numero = int(input('Ingrese el número: '))\n",
        "if numero < 0:\n",
        "  print(numero, 'es un número positivo.')\n",
        "if numero > 0:\n",
        "  print(numero, 'es un número negativo.')"
      ]
    },
    {
      "cell_type": "code",
      "execution_count": null,
      "metadata": {
        "id": "LHw9gjRQZdXj"
      },
      "outputs": [],
      "source": [
        "#Adicional mío: par o impar.\n",
        "print('¿Es par o impar?')\n",
        "numero = int(input('Ingrese el número: '))\n",
        "if numero % 2 == 0:\n",
        "  print(numero, 'es un número par.')\n",
        "if numero % 2 != 0:\n",
        "  print(numero, 'es un número impar.')"
      ]
    },
    {
      "cell_type": "code",
      "execution_count": null,
      "metadata": {
        "id": "xt02TObsQ457"
      },
      "outputs": [],
      "source": [
        "print('¿Cuál es mayor?')\n",
        "numeroa = int(input('Ingrese el primer número: '))\n",
        "numerob = int(input('Ingrese el segundo número: '))\n",
        "if numeroa > numerob:\n",
        "  print(numeroa, 'es mayor que', numerob)\n",
        "else:\n",
        "  print(numerob, 'es mayor que', numeroa)"
      ]
    },
    {
      "cell_type": "code",
      "execution_count": null,
      "metadata": {
        "id": "d9VBDD-bSNsu"
      },
      "outputs": [],
      "source": [
        "print('Veremos cual es tu calificación final')\n",
        "nota = int(input('Ingrese su callificación obtenida (SOLO EL NÚMERO): '))\n",
        "\n",
        "if (nota < 0) or (nota > 100):\n",
        "  print('Por favor, ingrese una calificación válida')\n",
        "elif (nota >= 90) and (nota <= 100):\n",
        "  print('Si su nota es', nota,'%', 'tu calificación final es A')\n",
        "elif (nota >= 80) and (nota < 90):\n",
        "  print('Si su nota es', nota,'%', 'tu calficiación final es B')\n",
        "elif (nota >= 70) and (nota < 80):\n",
        "  print('Si su nota es', nota,'%', 'tu calificación final es C')\n",
        "elif (nota >= 60) and (nota < 70):\n",
        "  print('Si su nota es', nota,'%', 'tu calificación final es D')\n",
        "else:\n",
        "  print('Si su nota es', nota,'%', 'tu calificación final es F')\n"
      ]
    },
    {
      "cell_type": "markdown",
      "metadata": {
        "id": "d3aaU86rVyT5"
      },
      "source": [
        "# Investigación\n",
        "## Array\n",
        "Un array, es un tipo de **dato estructurado** que permite almacenar un conjunto de datos del mismo tipo y relacionados.\n",
        "\n",
        "A los datos almacenados en un array se les denomina **elementos**; al número de elementos de un array se les denomina *tamaño* o rango del vector.\n",
        "\n",
        "Los arrays en gran parte se definen como las **variables ordinarias**, excepto en que cada array debe acompañarse de una especificación de tamaño (número de elementos). Para un array unidimensional, el tamaño se especifica con una expresión entera positiva encerrada entre paréntesis cuadrados. La expresión es normalmente una constante entera positiva.\n",
        "\n",
        "###¿Cómo crear un Array?\n",
        "Para crear un array, primero hay que crear los elementos, como en el ejemplo siguiente:\n",
        "\n"
      ]
    },
    {
      "cell_type": "code",
      "execution_count": null,
      "metadata": {
        "id": "aIGIdwBWNbFu"
      },
      "outputs": [],
      "source": [
        "materia1 = 'economía'\n",
        "materia2 = 'antropología'\n",
        "materia3 = 'historia'\n",
        "anual1 = 'teorías de la comunicación'  #esta esta creada así para ilustar que los nombres de los elementos son independientes del array"
      ]
    },
    {
      "cell_type": "markdown",
      "metadata": {
        "id": "V7FMa6DFN3pr"
      },
      "source": [
        "Luego, hay que crear nuestro array, pero dentro de él enumerar todos nuestros elementos entre corchetes [ ]."
      ]
    },
    {
      "cell_type": "code",
      "execution_count": 1,
      "metadata": {
        "colab": {
          "base_uri": "https://localhost:8080/"
        },
        "id": "F0Ktipy-OI2z",
        "outputId": "a46406ee-6e80-47ab-d775-71db59e1652f"
      },
      "outputs": [
        {
          "name": "stdout",
          "output_type": "stream",
          "text": [
            "['economía', 'semiótica', 'historia', 'teorías de la comunicación']\n"
          ]
        }
      ],
      "source": [
        "materia1 = 'economía'\n",
        "materia2 = 'antropología'\n",
        "materia3 = 'historia'\n",
        "anual1 = 'teorías de la comunicación'\n",
        "materias = [materia1, materia2, materia3, anual1]\n",
        "print(materias)"
      ]
    },
    {
      "cell_type": "markdown",
      "metadata": {
        "id": "3cMRFNffOk5A"
      },
      "source": [
        "####Acceso\n",
        "Para acceder a los datos del array, tenemos que utilizar su **índice**, este será un número asignado según la posición del elemento al momento de crear nuestra lista, iniciando en 0.\n",
        "Entonces, utilizaremos el nombre del array y la posición en la lista del elemento entre corchetes.\n",
        "Por ejemplo: para acceder a la materia1, es decir \"Economía\", tendremos que referirnos a ella como: materias[0]"
      ]
    },
    {
      "cell_type": "code",
      "execution_count": 2,
      "metadata": {
        "colab": {
          "base_uri": "https://localhost:8080/"
        },
        "id": "H9YUm2cJQsCE",
        "outputId": "e6e5d1a3-677e-4c99-e540-0c82463cc345"
      },
      "outputs": [
        {
          "name": "stdout",
          "output_type": "stream",
          "text": [
            "economía\n"
          ]
        }
      ],
      "source": [
        "materia1 = 'economía'\n",
        "materia2 = 'antropología'\n",
        "materia3 = 'historia'\n",
        "anual1 = 'teorías de la comunicación'\n",
        "materias = [materia1, materia2, materia3, anual1]\n",
        "\n",
        "print(materias[0])"
      ]
    },
    {
      "cell_type": "markdown",
      "metadata": {
        "id": "fuPrZ-p6YT-l"
      },
      "source": [
        "Al momento de crear el array, todas las variables utilizadas se fijan en el valor que estableciste anteriormente."
      ]
    },
    {
      "cell_type": "code",
      "execution_count": 17,
      "metadata": {
        "colab": {
          "base_uri": "https://localhost:8080/"
        },
        "id": "Y2T4lUPoYvYI",
        "outputId": "ff067039-67bd-4132-cd50-44e67764e921"
      },
      "outputs": [
        {
          "name": "stdout",
          "output_type": "stream",
          "text": [
            "['economía', 'antropología', 'historia', 'teorías de la comunicación']\n",
            "Por más de que materia1 ahora sea pcpc en el array continúa siendo \"historia\".\n"
          ]
        }
      ],
      "source": [
        "materia1 = 'economía'\n",
        "materia2 = 'antropología'\n",
        "materia3 = 'historia'\n",
        "anual1 = 'teorías de la comunicación'\n",
        "materias = [materia1, materia2, materia3, anual1]\n",
        "\n",
        "materia1 = 'pcpc'\n",
        "\n",
        "print(materias)\n",
        "\n",
        "print('Por más de que', 'materia1 ahora sea', materia1, 'en el array continúa siendo \"historia\".')"
      ]
    },
    {
      "cell_type": "markdown",
      "metadata": {
        "id": "yvt1PhEdRwjW"
      },
      "source": [
        "####Funciones\n",
        "Los arrays en Python ofrecen varias funciones útiles, algunas de las cuales son similares a las listas.\n",
        "Para utilizar estas funciones deberas escribir el nombre del array, un punto y el nombre de la función que desas utilizar, sin espacios, es decir `array.funcion()`\n",
        "\n",
        "**Aquí tienes algunas funciones comunes:**\n",
        "\n",
        "\n",
        "`append():` Agrega un elemento al final del array."
      ]
    },
    {
      "cell_type": "code",
      "execution_count": 3,
      "metadata": {
        "colab": {
          "base_uri": "https://localhost:8080/"
        },
        "id": "JgikB2PNSeDJ",
        "outputId": "581819b0-e564-4f7f-b707-49f8a3ea4b1c"
      },
      "outputs": [
        {
          "name": "stdout",
          "output_type": "stream",
          "text": [
            "['economía', 'antropología', 'historia', 'teorías de la comunicación', 'semiótica']\n"
          ]
        }
      ],
      "source": [
        "materia2 = 'antropología'\n",
        "materia3 = 'historia'\n",
        "anual1 = 'teorías de la comunicación'\n",
        "materias = [materia1, materia2, materia3, anual1]\n",
        "\n",
        "anual2= 'semiótica'\n",
        "materias.append(anual2)\n",
        "\n",
        "print(materias)"
      ]
    },
    {
      "cell_type": "markdown",
      "metadata": {
        "id": "gTDzCQNvT5G5"
      },
      "source": [
        "\n",
        "`insert():` Inserta un elemento en una posición específica."
      ]
    },
    {
      "cell_type": "code",
      "execution_count": 5,
      "metadata": {
        "colab": {
          "base_uri": "https://localhost:8080/"
        },
        "id": "janHC_LUT9Tu",
        "outputId": "f9682fef-6756-4089-9082-75815c0c0304"
      },
      "outputs": [
        {
          "name": "stdout",
          "output_type": "stream",
          "text": [
            "['economía', 'antropología', 'historia', 'derecho', 'teorías de la comunicación', 'semiótica']\n"
          ]
        }
      ],
      "source": [
        "materia1 = 'economía'\n",
        "materia2 = 'antropología'\n",
        "materia3 = 'historia'\n",
        "anual1 = 'teorías de la comunicación'\n",
        "anual2 = 'semiótica'\n",
        "materias = [materia1, materia2, materia3, anual1, anual2]\n",
        "\n",
        "materia4 = 'derecho'\n",
        "materias.insert(3 , materia4)\n",
        "\n",
        "print(materias)"
      ]
    },
    {
      "cell_type": "markdown",
      "metadata": {
        "id": "9-PJDx99UbJZ"
      },
      "source": [
        "`remove():` Elimina solamente *la* primera ocurrencia de un elemento en el array."
      ]
    },
    {
      "cell_type": "code",
      "execution_count": 6,
      "metadata": {
        "colab": {
          "base_uri": "https://localhost:8080/"
        },
        "id": "PFkfs0esUhXp",
        "outputId": "9d4a6e6c-f7f3-48a8-f1db-ec1fc667fad4"
      },
      "outputs": [
        {
          "name": "stdout",
          "output_type": "stream",
          "text": [
            "['economía', 'antropología', 'historia', 'derecho', 'teorías de la comunicación', 'teorías de la comunicación', 'semiótica']\n",
            "['economía', 'antropología', 'historia', 'derecho', 'teorías de la comunicación', 'semiótica']\n"
          ]
        }
      ],
      "source": [
        "materia1 = 'economía'\n",
        "materia2 = 'antropología'\n",
        "materia3 = 'historia'\n",
        "materia4 = 'derecho'\n",
        "anual1 = 'teorías de la comunicación'\n",
        "anual2 = 'semiótica'\n",
        "materias = [materia1, materia2, materia3, materia4, anual1, anual1, anual2]\n",
        "print(materias)\n",
        "\n",
        "#para facilitar la explicación, se repite el elemento a eliminar.\n",
        "materias.remove(anual1)\n",
        "\n",
        "print(materias)"
      ]
    },
    {
      "cell_type": "markdown",
      "metadata": {
        "id": "r8UBMbb-VEho"
      },
      "source": [
        "\n",
        "`pop():` Elimina y conserva el elemento de una posición específica.\n",
        "Es decir, para utilizar esta función debes crear un nuevo elemento, que pasará a ser la función"
      ]
    },
    {
      "cell_type": "code",
      "execution_count": 9,
      "metadata": {
        "colab": {
          "base_uri": "https://localhost:8080/"
        },
        "id": "k5aWN_DuWVCp",
        "outputId": "2f7bb563-02e8-4ee6-d39a-74bd02f98ae4"
      },
      "outputs": [
        {
          "name": "stdout",
          "output_type": "stream",
          "text": [
            "['economía', 'antropología', 'historia', 'derecho', 'teorías de la comunicación', 'semiótica']\n",
            "['economía', 'antropología', 'derecho', 'teorías de la comunicación', 'semiótica']\n",
            "hemos eliminado historia de la lista\n"
          ]
        }
      ],
      "source": [
        "materia1 = 'economía'\n",
        "materia2 = 'antropología'\n",
        "materia3 = 'historia'\n",
        "materia4 = 'derecho'\n",
        "anual1 = 'teorías de la comunicación'\n",
        "anual2 = 'semiótica'\n",
        "materias = [materia1, materia2, materia3, materia4, anual1, anual2]\n",
        "print(materias)\n",
        "\n",
        "#vamos a eliminar 'historia' de la lista, pero conservarla.\n",
        "optativa = materias.pop(2)\n",
        "\n",
        "print(materias)\n",
        "print('Hemos eliminado', optativa, 'de la lista')"
      ]
    },
    {
      "cell_type": "markdown",
      "metadata": {
        "id": "jE1dqc5OXjmJ"
      },
      "source": [
        "`index():` Devuelve el índice de la primera ocurrencia de un elemento. Si te refieres al por *su nombre de elemento* o *su valor*, cualquier función con el array dara el mismo resultado.\n",
        "Siempre y cuando, no lo hayas cambiado luego en el código"
      ]
    },
    {
      "cell_type": "code",
      "execution_count": 20,
      "metadata": {
        "colab": {
          "base_uri": "https://localhost:8080/"
        },
        "id": "HT0lg33zX0Kz",
        "outputId": "ee6016a3-5539-4303-92d9-f1107c92624e"
      },
      "outputs": [
        {
          "name": "stdout",
          "output_type": "stream",
          "text": [
            "La materia teorías de la comunicación en el array se encuentra en la posición 4\n",
            "El valor de teorías de la comunicación en el array se encuentra en la posición 4\n"
          ]
        }
      ],
      "source": [
        "materia1 = 'economía'\n",
        "materia2 = 'antropología'\n",
        "materia3 = 'historia'\n",
        "materia4 = 'derecho'\n",
        "anual1 = 'teorías de la comunicación'\n",
        "anual2 = 'semiótica'\n",
        "materias = [materia1, materia2, materia3, materia4, anual1, anual1, anual2]\n",
        "\n",
        "print('La materia', anual1, 'en el array se encuentra en la posición', materias.index(anual1))\n",
        "\n",
        "#con el valor:\n",
        "print('El valor de', anual1, 'en el array se encuentra en la posición', materias.index('teorías de la comunicación'))\n"
      ]
    },
    {
      "cell_type": "markdown",
      "metadata": {
        "id": "G4xf9mTPbD_S"
      },
      "source": [
        "`count()`: Cuenta cuántas veces aparece un elemento en el array."
      ]
    },
    {
      "cell_type": "code",
      "execution_count": 22,
      "metadata": {
        "colab": {
          "base_uri": "https://localhost:8080/"
        },
        "id": "-xCn8tIGbLVX",
        "outputId": "c80da06b-62fd-44d7-adac-835528d96918"
      },
      "outputs": [
        {
          "name": "stdout",
          "output_type": "stream",
          "text": [
            "Hemos detectado que teorías de la comunicación se encuentra 2 veces en la lista\n"
          ]
        }
      ],
      "source": [
        "materia1 = 'economía'\n",
        "materia2 = 'antropología'\n",
        "materia3 = 'historia'\n",
        "materia4 = 'derecho'\n",
        "anual1 = 'teorías de la comunicación'\n",
        "anual2 = 'semiótica'\n",
        "materias = [materia1, materia2, materia3, materia4, anual1, anual1, anual2]\n",
        "\n",
        "print('Hemos detectado que', materias[4], 'se encuentra', materias.count(anual1), 'veces en la lista')"
      ]
    },
    {
      "cell_type": "markdown",
      "metadata": {
        "id": "lrdVC8zjctKb"
      },
      "source": [
        "`extend():` Extiende el array agregando elementos de otra secuencia."
      ]
    },
    {
      "cell_type": "code",
      "execution_count": 3,
      "metadata": {
        "id": "P3htfwDoczKy"
      },
      "outputs": [
        {
          "name": "stdout",
          "output_type": "stream",
          "text": [
            "['economía política', 'antropología', 'historia', 'derecho', 'teorías de la comunicación', 'semiótica']\n",
            "Agregando el cbc, la lista ahora es ['economía política', 'antropología', 'historia', 'derecho', 'teorías de la comunicación', 'semiótica', 'semiología', 'economía', 'psicología', 'introducción al pensamiento científico', 'introducción al conocimiento de la sociedad y el estado', 'sociología']\n"
          ]
        }
      ],
      "source": [
        "materia1 = 'economía política'\n",
        "materia2 = 'antropología'\n",
        "materia3 = 'historia'\n",
        "materia4 = 'derecho'\n",
        "anual1 = 'teorías de la comunicación'\n",
        "anual2 = 'semiótica'\n",
        "materias = [materia1, materia2, materia3, materia4, anual1, anual2]\n",
        "\n",
        "cbc1 = 'semiología'\n",
        "cbc2 = 'economía'\n",
        "cbc3 = 'psicología'\n",
        "cbc4 = 'introducción al pensamiento científico'\n",
        "cbc5 = 'introducción al conocimiento de la sociedad y el estado'\n",
        "cbc6 = 'sociología'\n",
        "cbc = [cbc1, cbc2, cbc3, cbc4, cbc5, cbc6]\n",
        "\n",
        "print(materias)\n",
        "\n",
        "materias.extend(cbc)\n",
        "\n",
        "print('Agregando el cbc, la lista ahora es', materias)"
      ]
    },
    {
      "cell_type": "markdown",
      "metadata": {},
      "source": [
        "`clear():` Elimina todos los elementos del array"
      ]
    },
    {
      "cell_type": "code",
      "execution_count": 7,
      "metadata": {},
      "outputs": [
        {
          "name": "stdout",
          "output_type": "stream",
          "text": [
            "['economía política', 'antropología', 'historia', 'derecho', 'teorías de la comunicación', 'semiótica']\n",
            "Ahora es []\n"
          ]
        }
      ],
      "source": [
        "materia1 = 'economía política'\n",
        "materia2 = 'antropología'\n",
        "materia3 = 'historia'\n",
        "materia4 = 'derecho'\n",
        "anual1 = 'teorías de la comunicación'\n",
        "anual2 = 'semiótica'\n",
        "materias = [materia1, materia2, materia3, materia4, anual1, anual2]\n",
        "\n",
        "print(materias)\n",
        "\n",
        "materias.clear()\n",
        "\n",
        "print('Ahora es', materias)"
      ]
    },
    {
      "cell_type": "markdown",
      "metadata": {},
      "source": [
        "**`sort()`: Ordena los elementos del array. Existen 4 posibles opciones de ordenamiento que se ingresarían entre paréntesis.**\n",
        "\n",
        "`array.sort():` ascedente, si son números ordena de menor a mayor, si es texto alfabéticamente (a-z)\n",
        "\n",
        "`array.sort(reverse=True)`: descendente, si son números ordena de mayor a menor, si es texto alfabéticamente (z-a)\n",
        "\n",
        "`array.sort(key=len)`: por la longitud, ordenara según la cantidad de caracteres o cifras.  \n"
      ]
    },
    {
      "cell_type": "code",
      "execution_count": 9,
      "metadata": {},
      "outputs": [
        {
          "name": "stdout",
          "output_type": "stream",
          "text": [
            "['economía política', 'antropología', 'historia', 'derecho', 'teorías de la comunicación', 'semiótica']\n",
            "A-Z: ['antropología', 'derecho', 'economía política', 'historia', 'semiótica', 'teorías de la comunicación']\n",
            "Z-A: ['teorías de la comunicación', 'semiótica', 'historia', 'economía política', 'derecho', 'antropología']\n",
            "Longitud: ['derecho', 'historia', 'semiótica', 'antropología', 'economía política', 'teorías de la comunicación']\n"
          ]
        }
      ],
      "source": [
        "materia1 = 'economía política'\n",
        "materia2 = 'antropología'\n",
        "materia3 = 'historia'\n",
        "materia4 = 'derecho'\n",
        "anual1 = 'teorías de la comunicación'\n",
        "anual2 = 'semiótica'\n",
        "materias = [materia1, materia2, materia3, materia4, anual1, anual2]\n",
        "\n",
        "print(materias)\n",
        "\n",
        "materias.sort()\n",
        "\n",
        "print('A-Z:', materias)\n",
        "\n",
        "materias.sort(reverse=True)\n",
        "\n",
        "print('Z-A:', materias)\n",
        "\n",
        "materias.sort(key=len)\n",
        "\n",
        "print('Longitud:', materias)"
      ]
    },
    {
      "cell_type": "markdown",
      "metadata": {},
      "source": [
        "`sorted()`: crea una nueva lista ordenada, compatible con todas las alternativas de `sort()`. Se escribe creando un nuevo elemento:\n",
        "\n",
        "`elemento_nuevo = sorted(array, método)`"
      ]
    },
    {
      "cell_type": "code",
      "execution_count": 13,
      "metadata": {},
      "outputs": [
        {
          "name": "stdout",
          "output_type": "stream",
          "text": [
            "['economía política', 'antropología', 'historia', 'derecho', 'teorías de la comunicación', 'semiótica'] \n",
            " A-Z: ['antropología', 'derecho', 'economía política', 'historia', 'semiótica', 'teorías de la comunicación'] \n",
            " Z-A: ['teorías de la comunicación', 'semiótica', 'historia', 'economía política', 'derecho', 'antropología'] \n",
            " Longitud: ['derecho', 'historia', 'semiótica', 'antropología', 'economía política', 'teorías de la comunicación']\n"
          ]
        }
      ],
      "source": [
        "materia1 = 'economía política'\n",
        "materia2 = 'antropología'\n",
        "materia3 = 'historia'\n",
        "materia4 = 'derecho'\n",
        "anual1 = 'teorías de la comunicación'\n",
        "anual2 = 'semiótica'\n",
        "materias = [materia1, materia2, materia3, materia4, anual1, anual2]\n",
        "\n",
        "ascendente = sorted(materias)\n",
        "descendente = sorted(materias, reverse=True)\n",
        "longitud = sorted(materias, key=len)\n",
        "\n",
        "print(materias, '\\n','A-Z:', ascendente, '\\n', 'Z-A:', descendente,'\\n', 'Longitud:', longitud)"
      ]
    },
    {
      "cell_type": "markdown",
      "metadata": {},
      "source": [
        "## Ciclos Iterativos ##\n",
        "\n",
        "Un ciclo iterativo es una función que se continuará ejecutando hasta que se cumpla la condición indicada. \n",
        "\n",
        "Se utilizan las funciones `while` para indicar la condición que se debe cumplir para realizar la acción y realizarla siempre que sea verdadera: "
      ]
    },
    {
      "cell_type": "code",
      "execution_count": 2,
      "metadata": {},
      "outputs": [
        {
          "name": "stdout",
          "output_type": "stream",
          "text": [
            "¿Ha aprobado usted economía?\n",
            "Su nota en el exámen fue 3\n",
            "Usted ha desaprobado el examen\n",
            "Su nota en el recuperatorio fue 5\n",
            "Usted ha aprobado la materia\n"
          ]
        }
      ],
      "source": [
        "print('¿Ha aprobado usted economía?')\n",
        "calificacion = int(input('Ingrese su califcación numérica: '))\n",
        "\n",
        "while calificacion < 4:\n",
        "    print('Su nota en el exámen fue', calificacion)\n",
        "    print('Usted ha desaprobado el examen')\n",
        "    calificacion = int(input('Ingrese su calificación numérica en el recuperatorio: '))\n",
        "    print('Su nota en el recuperatorio fue', calificacion)\n",
        "    \n",
        "print('Usted ha aprobado la materia')"
      ]
    }
  ],
  "metadata": {
    "colab": {
      "authorship_tag": "ABX9TyOq0Br4mxAzTJLrcX5H1E0w",
      "include_colab_link": true,
      "provenance": []
    },
    "kernelspec": {
      "display_name": "Python 3",
      "name": "python3"
    },
    "language_info": {
      "codemirror_mode": {
        "name": "ipython",
        "version": 3
      },
      "file_extension": ".py",
      "mimetype": "text/x-python",
      "name": "python",
      "nbconvert_exporter": "python",
      "pygments_lexer": "ipython3",
      "version": "3.11.5"
    }
  },
  "nbformat": 4,
  "nbformat_minor": 0
}
