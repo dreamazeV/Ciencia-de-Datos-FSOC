{
  "nbformat": 4,
  "nbformat_minor": 0,
  "metadata": {
    "colab": {
      "provenance": [],
      "authorship_tag": "ABX9TyNFDgW3+tEViRgC7hYOOUAB",
      "include_colab_link": true
    },
    "kernelspec": {
      "name": "python3",
      "display_name": "Python 3"
    },
    "language_info": {
      "name": "python"
    }
  },
  "cells": [
    {
      "cell_type": "markdown",
      "metadata": {
        "id": "view-in-github",
        "colab_type": "text"
      },
      "source": [
        "<a href=\"https://colab.research.google.com/github/dreamazeV/Ciencia-de-Datos-FSOC/blob/main/Tarea1.ipynb\" target=\"_parent\"><img src=\"https://colab.research.google.com/assets/colab-badge.svg\" alt=\"Open In Colab\"/></a>"
      ]
    },
    {
      "cell_type": "code",
      "execution_count": null,
      "metadata": {
        "colab": {
          "base_uri": "https://localhost:8080/"
        },
        "id": "7fwzmG8OORhO",
        "outputId": "e19b4bbc-78ff-48bb-de99-d750654f9830"
      },
      "outputs": [
        {
          "output_type": "stream",
          "name": "stdout",
          "text": [
            "Vamos a descubrir quién eres\n",
            "Escribe tu nombre...Pepa\n",
            "Escribe tu edad...22\n",
            "Hola Pepa . Tienes 22 años\n"
          ]
        }
      ],
      "source": [
        "# Consigna: Escribe un programa que solicite al usuario su nombre y edad, y luego imprima un mensaje que diga \"Hola, [nombre]. Tienes [edad] años.\"\n",
        "print('Vamos a descubrir quién eres')\n",
        "nombre = input('Escribe tu nombre...')\n",
        "edad = int(input('Escribe tu edad...'))\n",
        "print('Hola,',nombre,'. Tienes',edad,'años')\n"
      ]
    },
    {
      "cell_type": "code",
      "source": [
        "print('¿Es par o impar?')\n",
        "numero = int(input('Ingrese el número: '))\n",
        "if numero % 2 == 0:\n",
        "  print('Es par')\n",
        "if numero % 2 != 0:\n",
        "  print('Es impar')"
      ],
      "metadata": {
        "colab": {
          "base_uri": "https://localhost:8080/"
        },
        "id": "RI3ix47lPx2f",
        "outputId": "a47eb442-3cf3-4c55-e155-6c5234b6fef1"
      },
      "execution_count": null,
      "outputs": [
        {
          "output_type": "stream",
          "name": "stdout",
          "text": [
            "¿Es par o impar?\n",
            "Ingrese el número: 29\n",
            "Es impar\n"
          ]
        }
      ]
    },
    {
      "cell_type": "code",
      "source": [
        "print('¿Cuál es mayor?')\n",
        "numeroa = int(input('Ingrese el primer número: '))\n",
        "numerob = int(input('Ingrese el segundo número: '))\n",
        "if numeroa > numerob:\n",
        "  print(numeroa, 'es mayor que', numerob)\n",
        "else:\n",
        "  print(numerob, 'es mayor que', numeroa)"
      ],
      "metadata": {
        "colab": {
          "base_uri": "https://localhost:8080/"
        },
        "id": "xt02TObsQ457",
        "outputId": "3b884234-698b-4728-e155-be48e53b1105"
      },
      "execution_count": null,
      "outputs": [
        {
          "output_type": "stream",
          "name": "stdout",
          "text": [
            "¿Cuál es mayor?\n",
            "Ingrese el primer número: 23\n",
            "Ingrese el segundo número: 89\n",
            "89 es mayor que 23\n"
          ]
        }
      ]
    },
    {
      "cell_type": "code",
      "source": [
        "print('Veremos cual es tu calificación final')\n",
        "nota = int(input('Ingrese su callificación obtenida (SOLO EL NÚMERO): '))\n",
        "\n",
        "if (nota < 0) or (nota > 100):\n",
        "  print('Por favor, ingrese una calificación válida')\n",
        "elif (nota >= 90) and (nota <= 100):\n",
        "  print('Si su nota es', nota,'%', 'tu calificación final es A')\n",
        "elif (nota >= 80) and (nota < 90):\n",
        "  print('Si su nota es', nota,'%', 'tu calficiación final es B')\n",
        "elif (nota >= 70) and (nota < 80):\n",
        "  print('Si su nota es', nota,'%', 'tu calificación final es C')\n",
        "elif (nota >= 60) and (nota < 70):\n",
        "  print('Si su nota es', nota,'%', 'tu calificación final es D')\n",
        "else:\n",
        "  print('Si su nota es', nota,'%', 'tu calificación final es F')\n"
      ],
      "metadata": {
        "colab": {
          "base_uri": "https://localhost:8080/"
        },
        "id": "d9VBDD-bSNsu",
        "outputId": "dd61b838-47dd-4be8-8574-4215352a4706"
      },
      "execution_count": null,
      "outputs": [
        {
          "output_type": "stream",
          "name": "stdout",
          "text": [
            "Veremos cual es tu calificación final\n"
          ]
        }
      ]
    },
    {
      "cell_type": "markdown",
      "source": [
        "Un array, es un tipo de dato estructurado que permite almacenar un conjunto de datos homogeneo, es decir, todos ellos del mismo tipo y relacionados. Cada uno de los elementos que componen un vector pueden ser de tipo simple como caracteres, entero o real, o de tipo compuesto o estructurado como son vectores, estructuras, listas...\n",
        "\n",
        "A los datos almacenados en un array se les denomina elementos; al número de elementos de un array se les denomina tamaño o rango del vector.\n",
        "\n",
        "Para acceder a los elementos individuales de un array se emplea  un índice que será un número entero no negativo que indicará la posición del elemento dentro del array. Para referirse a una posición particular o elemento dentro del array, especificamos el nombre del array y el número de posición del elemento particular dentro del mismo, el índice.\n",
        "\n",
        "Los arrays en gran parte se definen como las variables ordinarias, excepto en que cada array debe acompañarse de una especificación de tamaño (número de elementos). Para un array unidimensional, el tamaño se especifica con una expresión entera positiva encerrada entre paréntesis cuadrados. La expresión es normalmente una constante entera positiva."
      ],
      "metadata": {
        "id": "d3aaU86rVyT5"
      }
    }
  ]
}